{
 "cells": [
  {
   "cell_type": "code",
   "execution_count": 1,
   "id": "f088d46a",
   "metadata": {},
   "outputs": [],
   "source": [
    "import numpy as np\n",
    "import cv2"
   ]
  },
  {
   "cell_type": "code",
   "execution_count": 2,
   "id": "58a42c0f",
   "metadata": {},
   "outputs": [],
   "source": [
    "face_detection_model=cv2.dnn.readNetFromCaffe(\"./models/deploy.prototxt.txt\",\"./models/res10_300x300_ssd_iter_140000_fp16.caffemodel\")"
   ]
  },
  {
   "cell_type": "code",
   "execution_count": 3,
   "id": "c09bfa97",
   "metadata": {},
   "outputs": [],
   "source": [
    "def face_blurring(original_img):\n",
    "    image=original_image.copy()\n",
    "\n",
    "    #face_mask is essentailly a black image with white spapces where the faces are  detected\n",
    "    face_mask=np.zeros(image.shape[:2],dtype='uint8')\n",
    "    # getting blob from image\n",
    "    blob=cv2.dnn.blobFromImage(image,1,(300,300),(104,177,123),swapRB=True)\n",
    "    face_detection_model.setInput(blob)\n",
    "    detections=face_detection_model.forward()\n",
    "    h,w=image.shape[:2]\n",
    "    for i in range(detections.shape[2]):\n",
    "        confidence=detections[0,0,i,2]\n",
    "        if confidence>0.5:\n",
    "            box=detections[0,0,i,3:7]*np.array([w,h,w,h])\n",
    "            box=box.astype(int)\n",
    "            point1=(box[0],box[1])\n",
    "            point2=(box[2],box[3])\n",
    "            cv2.rectangle(face_mask,point1,point2,255,-1)\n",
    "    \n",
    "    inverse_facemask=cv2.bitwise_not(face_mask)\n",
    "    bg_image=cv2.bitwise_and(original_image,original_image,mask=face_mask)\n",
    "    fg_image=cv2.bitwise_and(original_image,original_image,mask=inverse_facemask)\n",
    "    bg_blur=cv2.GaussianBlur(bg_image,(101,101),0)\n",
    "    face_blur=cv2.add(bg_blur,fg_image)\n",
    "    \n",
    "    return face_blur"
   ]
  },
  {
   "cell_type": "code",
   "execution_count": 7,
   "id": "b1219799",
   "metadata": {},
   "outputs": [],
   "source": [
    "cap=cv2.VideoCapture(0)\n",
    "\n",
    "while True:\n",
    "    ret,original_image=cap.read()\n",
    "    \n",
    "    if ret==False:\n",
    "        break\n",
    "    feed=face_blurring(frame)\n",
    "    cv2.imshow('live blurred feed',feed)\n",
    "    if cv2.waitKey(1)==27:\n",
    "        break\n",
    "    \n",
    "cap.release\n",
    "cv2.destroyAllWindows()"
   ]
  },
  {
   "cell_type": "code",
   "execution_count": null,
   "id": "a7f90e50",
   "metadata": {},
   "outputs": [],
   "source": []
  }
 ],
 "metadata": {
  "kernelspec": {
   "display_name": "Python 3 (ipykernel)",
   "language": "python",
   "name": "python3"
  },
  "language_info": {
   "codemirror_mode": {
    "name": "ipython",
    "version": 3
   },
   "file_extension": ".py",
   "mimetype": "text/x-python",
   "name": "python",
   "nbconvert_exporter": "python",
   "pygments_lexer": "ipython3",
   "version": "3.9.12"
  }
 },
 "nbformat": 4,
 "nbformat_minor": 5
}
